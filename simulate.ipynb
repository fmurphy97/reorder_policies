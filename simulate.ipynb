{
 "cells": [
  {
   "cell_type": "code",
   "execution_count": null,
   "metadata": {
    "collapsed": false,
    "pycharm": {
     "name": "#%%\n"
    }
   },
   "outputs": [],
   "source": [
    "from inventory_simulator import InventorySimulator\n",
    "import numpy as np\n",
    "from scipy import stats"
   ]
  },
  {
   "cell_type": "code",
   "execution_count": null,
   "metadata": {
    "collapsed": false,
    "pycharm": {
     "name": "#%%\n"
    }
   },
   "outputs": [],
   "source": [
    "def format_percentage(input_ratio):\n",
    "    \"\"\"Takes an input ratio, formats it as percentage and caps it between 0 and 100%\"\"\"\n",
    "    input_ratio_capped = min(1, input_ratio)\n",
    "    input_ratio_capped = max(0, input_ratio_capped)\n",
    "    rounded_value = round(input_ratio_capped * 100,2)\n",
    "    return f\"{rounded_value} %\""
   ]
  },
  {
   "attachments": {},
   "cell_type": "markdown",
   "metadata": {
    "collapsed": false,
    "pycharm": {
     "name": "#%% md\n"
    }
   },
   "source": [
    "## Run a Single Simulation"
   ]
  },
  {
   "cell_type": "code",
   "execution_count": null,
   "metadata": {
    "collapsed": false,
    "pycharm": {
     "name": "#%%\n"
    }
   },
   "outputs": [],
   "source": [
    "sim = InventorySimulator(yearly_demand_mean=100000,\n",
    "                         yearly_demand_deviation=200000,\n",
    "                         vendor_lead_time_mean=4,\n",
    "                         vendor_lead_time_deviation=0.8,\n",
    "                         single_transaction_fixed_cost=50,\n",
    "                         variable_transaction_cost=0.25,\n",
    "                         holding_cost=0.1,\n",
    "                         stockout_cost=0.1,\n",
    "                         review_periods=[7],\n",
    "                         min_order_size=50,\n",
    "                         confidence_level=0.95)"
   ]
  },
  {
   "cell_type": "code",
   "execution_count": null,
   "metadata": {
    "collapsed": false,
    "pycharm": {
     "name": "#%%\n"
    }
   },
   "outputs": [],
   "source": [
    "# Simulate\n",
    "days_to_simulate = 180\n",
    "sim.simulate(days_to_simulate)"
   ]
  },
  {
   "cell_type": "code",
   "execution_count": null,
   "metadata": {
    "collapsed": false,
    "pycharm": {
     "name": "#%%\n"
    }
   },
   "outputs": [],
   "source": [
    "# Show the simulation results as a df\n",
    "sim.show_sim_results_as_df().head()"
   ]
  },
  {
   "cell_type": "code",
   "execution_count": null,
   "metadata": {
    "collapsed": false,
    "pycharm": {
     "name": "#%%\n"
    }
   },
   "outputs": [],
   "source": [
    "# Based on the current simulation results plots the inventory and stock outs\n",
    "sim.plot_results()"
   ]
  },
  {
   "cell_type": "code",
   "execution_count": null,
   "metadata": {
    "collapsed": false,
    "pycharm": {
     "name": "#%%\n"
    }
   },
   "outputs": [],
   "source": [
    "fill_rate, total_service_level, daily_stock_out = sim.calculate_metrics()\n",
    "\n",
    "# Print variable names and their values\n",
    "print(\"fill_rate:\", format_percentage(fill_rate))\n",
    "print(\"total_service_level:\", format_percentage(total_service_level))\n",
    "print(\"daily_stock_out:\", format_percentage(daily_stock_out))"
   ]
  },
  {
   "attachments": {},
   "cell_type": "markdown",
   "metadata": {
    "collapsed": false,
    "pycharm": {
     "name": "#%% md\n"
    }
   },
   "source": [
    "# Run N simulations"
   ]
  },
  {
   "cell_type": "code",
   "execution_count": null,
   "metadata": {
    "collapsed": false,
    "pycharm": {
     "name": "#%%\n"
    }
   },
   "outputs": [],
   "source": [
    "# Run simulation n times\n",
    "num_simulations = 10\n",
    "num_parameters = 3\n",
    "\n",
    "# Empty array to store results\n",
    "results = np.empty((num_simulations, num_parameters))\n",
    "\n",
    "# Run simulations, and store metrics\n",
    "for i in range(num_simulations):\n",
    "\n",
    "    sim.simulate(days_to_simulate)\n",
    "    # Run your simulation and obtain parameters a, b, c\n",
    "    result_metrics = sim.calculate_metrics()\n",
    "\n",
    "    # Store the results in the corresponding row of the array\n",
    "    results[i] = [*result_metrics]\n"
   ]
  },
  {
   "cell_type": "code",
   "execution_count": null,
   "metadata": {
    "collapsed": false,
    "pycharm": {
     "name": "#%%\n"
    }
   },
   "outputs": [],
   "source": [
    "confidence_intervals = []\n",
    "\n",
    "for i in range(results.shape[1]):\n",
    "    c_i = stats.t.interval(sim.confidence_level, len(results[i]) - 1, loc=np.mean(results[i]), scale=stats.sem(results[i]))\n",
    "    confidence_intervals.append(c_i)\n",
    "\n",
    "# Print variable names and their values\n",
    "print(\"fill_rate between:\",format_percentage(confidence_intervals[0][0]), \"and\",format_percentage(confidence_intervals[0][1]))\n",
    "print(\"total_service between:\",format_percentage(confidence_intervals[1][0]), \"and\",format_percentage(confidence_intervals[1][1]))\n",
    "print(\"daily_stock_out between:\",format_percentage(confidence_intervals[2][0]), \"and\",format_percentage(confidence_intervals[2][1]))"
   ]
  }
 ],
 "metadata": {
  "kernelspec": {
   "display_name": "Python 3",
   "language": "python",
   "name": "python3"
  },
  "language_info": {
   "codemirror_mode": {
    "name": "ipython",
    "version": 3
   },
   "file_extension": ".py",
   "mimetype": "text/x-python",
   "name": "python",
   "nbconvert_exporter": "python",
   "pygments_lexer": "ipython3",
   "version": "3.9.12"
  }
 },
 "nbformat": 4,
 "nbformat_minor": 0
}
